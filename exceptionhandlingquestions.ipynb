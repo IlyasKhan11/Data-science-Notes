{
 "cells": [
  {
   "cell_type": "markdown",
   "metadata": {},
   "source": [
    "# Module: Exception Handling Assignments\n",
    "## Lesson: Exception Handling with try, except, and finally\n",
    "### Assignment 1: Handling Division by Zero\n",
    "\n",
    "Write a function that takes two integers as input and returns their division. Use try, except, and finally blocks to handle division by zero and print an appropriate message.\n",
    "\n",
    "### Assignment 2: File Reading with Exception Handling\n",
    "\n",
    "Write a function that reads the contents of a file named `data.txt`. Use try, except, and finally blocks to handle file not found errors and ensure the file is properly closed.\n",
    "\n",
    "### Assignment 3: Handling Multiple Exceptions\n",
    "\n",
    "Write a function that takes a list of integers and returns their sum. Use try, except, and finally blocks to handle TypeError if a non-integer value is encountered and print an appropriate message.\n",
    "\n",
    "### Assignment 4: Exception Handling in User Input\n",
    "\n",
    "Write a function that prompts the user to enter an integer. Use try, except, and finally blocks to handle ValueError if the user enters a non-integer value and print an appropriate message.\n",
    "\n",
    "### Assignment 5: Exception Handling in Dictionary Access\n",
    "\n",
    "Write a function that takes a dictionary and a key as input and returns the value associated with the key. Use try, except, and finally blocks to handle KeyError if the key is not found in the dictionary and print an appropriate message.\n",
    "\n",
    "### Assignment 6: Nested Exception Handling\n",
    "\n",
    "Write a function that performs nested exception handling. It should first attempt to convert a string to an integer, and then attempt to divide by that integer. Use nested try, except, and finally blocks to handle ValueError and ZeroDivisionError and print appropriate messages.\n",
    "\n",
    "### Assignment 7: Exception Handling in List Operations\n",
    "\n",
    "Write a function that takes a list and an index as input and returns the element at the given index. Use try, except, and finally blocks to handle IndexError if the index is out of range and print an appropriate message.\n",
    "\n",
    "### Assignment 8: Exception Handling in Network Operations\n",
    "\n",
    "Write a function that attempts to open a URL and read its contents. Use try, except, and finally blocks to handle network-related errors and print an appropriate message.\n",
    "\n",
    "### Assignment 9: Exception Handling in JSON Parsing\n",
    "\n",
    "Write a function that attempts to parse a JSON string. Use try, except, and finally blocks to handle JSONDecodeError if the string is not a valid JSON and print an appropriate message.\n",
    "\n",
    "### Assignment 10: Custom Exception Handling\n",
    "\n",
    "Define a custom exception named `NegativeNumberError`. Write a function that raises this exception if a negative number is encountered in a list. Use try, except, and finally blocks to handle the custom exception and print an appropriate message.\n",
    "\n",
    "### Assignment 11: Exception Handling in Function Calls\n",
    "\n",
    "Write a function that calls another function which may raise an exception. Use try, except, and finally blocks to handle the exception and print an appropriate message.\n",
    "\n",
    "### Assignment 12: Exception Handling in Class Methods\n",
    "\n",
    "Define a class with a method that performs a division operation. Use try, except, and finally blocks within the method to handle division by zero and print an appropriate message.\n",
    "\n",
    "### Assignment 13: Exception Handling in Data Conversion\n",
    "\n",
    "Write a function that takes a list of strings and converts them to integers. Use try, except, and finally blocks to handle ValueError if a string cannot be converted and print an appropriate message.\n",
    "\n",
    "### Assignment 14: Exception Handling in List Comprehensions\n",
    "\n",
    "Write a function that uses a list comprehension to convert a list of strings to integers. Use try, except, and finally blocks within the list comprehension to handle ValueError and print an appropriate message.\n",
    "\n",
    "### Assignment 15: Exception Handling in File Writing\n",
    "\n",
    "Write a function that attempts to write a list of strings to a file. Use try, except, and finally blocks to handle IOError and ensure the file is properly closed."
   ]
  },
  {
   "cell_type": "code",
   "execution_count": 2,
   "metadata": {},
   "outputs": [
    {
     "name": "stdout",
     "output_type": "stream",
     "text": [
      "cannot divide by zoro division by zero\n",
      "This will always execute\n"
     ]
    }
   ],
   "source": [
    "try:\n",
    "    int1=int(input(\"Enter the first number: \"))\n",
    "    int2=int(input(\"Enter the second number: \"))\n",
    "    print(\"The sum of the two numbers is: \",int1/int2)\n",
    "except ZeroDivisionError as e:\n",
    "    print(\"cannot divide by zoro\", e)\n",
    "finally:\n",
    "    print(\"This will always execute\")"
   ]
  },
  {
   "cell_type": "code",
   "execution_count": 3,
   "id": "0fbe8ad1",
   "metadata": {},
   "outputs": [
    {
     "name": "stdout",
     "output_type": "stream",
     "text": [
      "this is a file\n",
      "name is boof\n",
      "pass:1231\n",
      "real username:liasa1\n",
      "File closed\n"
     ]
    }
   ],
   "source": [
    "try:\n",
    "    file=open(\"sample.txt\",\"r\")\n",
    "    content=file.read()\n",
    "    print(content)\n",
    "except FileNotFoundError as e:\n",
    "    print(\"File not found\", e)\n",
    "finally:\n",
    "    if 'file' in locals() or not file.closed():\n",
    "        file.close()\n",
    "        print(\"File closed\")\n",
    "        "
   ]
  },
  {
   "cell_type": "code",
   "execution_count": null,
   "id": "d532ba10",
   "metadata": {},
   "outputs": [],
   "source": [
    "def sum_of_integers(int_list):\n",
    "    total = 0\n",
    "    try:\n",
    "        for num in int_list:\n",
    "            total += num\n",
    "    except TypeError as e:\n",
    "        print(\"Non-integer value encountered:\", e)\n",
    "    finally:\n",
    "        print(\"Execution completed.\")\n",
    "    return total\n",
    "\n",
    "# Example usage\n",
    "int_list = [1, 2, 3, 'a', 4]\n",
    "result = sum_of_integers(int_list)\n",
    "print(\"Sum of integers:\", result)"
   ]
  },
  {
   "cell_type": "code",
   "execution_count": 5,
   "id": "22bd0a71",
   "metadata": {},
   "outputs": [
    {
     "name": "stdout",
     "output_type": "stream",
     "text": [
      "Invalid input invalid literal for int() with base 10: 'a'\n"
     ]
    }
   ],
   "source": [
    "try:\n",
    "    i=int(input(\"Enter a number: \"))\n",
    "    print(i)\n",
    "except ValueError as e:\n",
    "    print(\"Invalid input\", e)\n",
    "    "
   ]
  },
  {
   "cell_type": "code",
   "execution_count": null,
   "id": "3b6d4708",
   "metadata": {},
   "outputs": [],
   "source": [
    "def get_value_from_dict(dictionary, key):\n",
    "    try:\n",
    "        if not isinstance(dictionary, dict):\n",
    "            raise TypeError(\"First argument must be a dictionary.\")\n",
    "        value = dictionary[key]\n",
    "        return value\n",
    "    except KeyError as e:\n",
    "        print(\"Key not found:\", e)\n",
    "    finally:\n",
    "        print(\"Execution completed.\")\n",
    "\n",
    "# Example usage\n",
    "sample_dict = {'name': 'Alice', 'age': 25, 'gender': 'F'}\n",
    "key_to_lookup = 'age'\n",
    "result = get_value_from_dict(sample_dict, key_to_lookup)\n",
    "print(\"Value:\", result)"
   ]
  },
  {
   "cell_type": "code",
   "execution_count": null,
   "id": "ba1a17e9",
   "metadata": {},
   "outputs": [],
   "source": [
    "def nestedEH(s):\n",
    "    try:\n",
    "        inp=input(\"please type a number: \")\n",
    "        inp1=input(\"please type another number: \")\n",
    "\n",
    "        try:\n"
   ]
  },
  {
   "cell_type": "code",
   "execution_count": 8,
   "id": "5845284a",
   "metadata": {},
   "outputs": [],
   "source": [
    "def getfromURL(url):\n",
    "    try:\n",
    "        responce= requests.get(url)\n",
    "        response.raise_for_status()\n",
    "    except requests.exceptions.HTTPError as e:\n",
    "        print(\"HTTP error:\", e)\n",
    "        return None\n",
    "    finally:\n",
    "        print(\"finally completelted\")"
   ]
  },
  {
   "cell_type": "code",
   "execution_count": 3,
   "id": "7b94430d",
   "metadata": {},
   "outputs": [],
   "source": [
    "import json \n",
    "def parse(json_string):\n",
    "    try:\n",
    "        data=json.loads(json_string)\n",
    "        return data\n",
    "    except json.JSONDecodeError as e:\n",
    "        print(\"JSON decoding error:\", e)\n",
    "    finally:\n",
    "        print(\"Execution completed.\")"
   ]
  },
  {
   "cell_type": "code",
   "execution_count": 4,
   "id": "77508ac8",
   "metadata": {},
   "outputs": [
    {
     "name": "stdout",
     "output_type": "stream",
     "text": [
      "Error: Number cannot be negative\n"
     ]
    }
   ],
   "source": [
    "class NegativeNumberError(Exception):\n",
    "    pass\n",
    "\n",
    "try:\n",
    "    num=int(input(\"Enter the number \"))\n",
    "    if num<0:\n",
    "        raise NegativeNumberError(\"Number cannot be negative\")\n",
    "except NegativeNumberError as e:\n",
    "    print(\"Error:\", e)"
   ]
  },
  {
   "cell_type": "code",
   "execution_count": null,
   "id": "7fd04579",
   "metadata": {},
   "outputs": [],
   "source": []
  }
 ],
 "metadata": {
  "kernelspec": {
   "display_name": "Python 3",
   "language": "python",
   "name": "python3"
  },
  "language_info": {
   "codemirror_mode": {
    "name": "ipython",
    "version": 3
   },
   "file_extension": ".py",
   "mimetype": "text/x-python",
   "name": "python",
   "nbconvert_exporter": "python",
   "pygments_lexer": "ipython3",
   "version": "3.10.0"
  }
 },
 "nbformat": 4,
 "nbformat_minor": 5
}
