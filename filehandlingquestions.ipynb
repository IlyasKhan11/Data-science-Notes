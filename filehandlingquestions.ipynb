{
 "cells": [
  {
   "cell_type": "markdown",
   "metadata": {},
   "source": [
    "# Module: File Handling Assignments\n",
    "## Lesson: File Handling and Operations\n",
    "### Assignment 1: Reading a File\n",
    "\n",
    "Write a function that reads the contents of a file named `sample.txt` and prints each line.\n",
    "\n",
    "### Assignment 2: Writing to a File\n",
    "\n",
    "Write a function that writes a list of strings to a file named `output.txt`, with each string on a new line.\n",
    "\n",
    "### Assignment 3: Copying a File\n",
    "\n",
    "Write a function that copies the contents of a file named `source.txt` to a new file named `destination.txt`.\n",
    "\n",
    "### Assignment 4: Appending to a File\n",
    "\n",
    "Write a function that appends a given string to the end of a file named `log.txt`.\n",
    "\n",
    "### Assignment 5: Counting Words in a File\n",
    "\n",
    "Write a function that reads the contents of a file named `document.txt` and returns the number of words in the file.\n",
    "\n",
    "### Assignment 6: Finding and Replacing Text\n",
    "\n",
    "Write a function that finds and replaces all occurrences of a given word in a file named `data.txt` with another word.\n",
    "\n",
    "### Assignment 7: Reading a File in Reverse\n",
    "\n",
    "Write a function that reads the contents of a file named `reverse.txt` and prints each line in reverse order.\n",
    "\n",
    "### Assignment 8: Counting Lines, Words, and Characters\n",
    "\n",
    "Write a function that reads the contents of a file named `stats.txt` and returns the number of lines, words, and characters in the file.\n",
    "\n",
    "### Assignment 9: Merging Multiple Files\n",
    "\n",
    "Write a function that merges the contents of multiple files into a single file named `merged.txt`.\n",
    "\n",
    "### Assignment 10: Splitting a Large File\n",
    "\n",
    "Write a function that splits a large file named `large.txt` into smaller files of 100 lines each.\n",
    "\n",
    "### Assignment 11: Creating a Log File\n",
    "\n",
    "Write a function that creates a log file named `activity.log` and writes log messages with timestamps.\n",
    "\n",
    "### Assignment 12: Binary File Operations\n",
    "\n",
    "Write a function that reads a binary file named `image.bin` and writes its contents to another binary file named `copy_image.bin`.\n",
    "\n",
    "### Assignment 13: CSV File Operations\n",
    "\n",
    "Write a function that reads a CSV file named `data.csv` and prints its contents as a list of dictionaries.\n",
    "\n",
    "### Assignment 14: JSON File Operations\n",
    "\n",
    "Write a function that reads a JSON file named `data.json` and prints its contents as a Python dictionary.\n",
    "\n",
    "### Assignment 15: File Permission Handling\n",
    "\n",
    "Write a function that attempts to read a file named `protected.txt` and handles any permission errors gracefully by printing an error message."
   ]
  },
  {
   "cell_type": "code",
   "execution_count": 7,
   "metadata": {},
   "outputs": [
    {
     "name": "stdout",
     "output_type": "stream",
     "text": [
      "this is a file!\n",
      "\n",
      "hellow there \n",
      "\n",
      "this is liza\n",
      "\n",
      "and this is my password:12312\n"
     ]
    }
   ],
   "source": [
    "with open('sample.txt','r') as file:\n",
    "    for line in file:\n",
    "        print(line)"
   ]
  },
  {
   "cell_type": "code",
   "execution_count": 9,
   "id": "e24815b6",
   "metadata": {},
   "outputs": [
    {
     "name": "stdout",
     "output_type": "stream",
     "text": [
      "Hello World\n",
      "\n",
      "This is a sample text file\n",
      "\n",
      "With multiple lines of data\n",
      "\n",
      "Goodbye World\n",
      "\n"
     ]
    }
   ],
   "source": [
    "with open('output.txt','w') as file:\n",
    "    file.write('Hello World\\n')\n",
    "    file.write('This is a sample text file\\n')\n",
    "    file.write('With multiple lines of data\\n')\n",
    "    file.write('Goodbye World\\n')\n",
    "\n",
    "with open('output.txt','r') as file:\n",
    "    for line in file:\n",
    "        print(line)"
   ]
  },
  {
   "cell_type": "code",
   "execution_count": 11,
   "id": "fcb2d0bf",
   "metadata": {},
   "outputs": [],
   "source": [
    "lines=[]\n",
    "with open('sample.txt','r') as file:\n",
    "    lines=file.readlines()\n",
    "    \n",
    "with open('destination.txt','w') as file:\n",
    "    for line in lines:\n",
    "        file.write(line)"
   ]
  },
  {
   "cell_type": "code",
   "execution_count": 12,
   "id": "8e4dadce",
   "metadata": {},
   "outputs": [],
   "source": [
    "with open('log.txt','a') as file:\n",
    "    file.write('This is a log message\\n')\n",
    "    file.write('This is another log message\\n')\n",
    "    file.write('This is a third log message\\n')\n",
    "    file.write('This is a fourth log message\\n')\n",
    "    "
   ]
  },
  {
   "cell_type": "code",
   "execution_count": 13,
   "id": "a65fdf1e",
   "metadata": {},
   "outputs": [
    {
     "name": "stdout",
     "output_type": "stream",
     "text": [
      "Number of lines: 4\n",
      "Number of words: 14\n"
     ]
    }
   ],
   "source": [
    "words=0\n",
    "lines=[]\n",
    "with open('sample.txt','r') as file:\n",
    "    for line in file:\n",
    "        lines.append(line)\n",
    "        words+=len(line.split())\n",
    "        \n",
    "print('Number of lines:',len(lines))\n",
    "print('Number of words:',words)"
   ]
  },
  {
   "cell_type": "code",
   "execution_count": 23,
   "id": "24c97017",
   "metadata": {},
   "outputs": [
    {
     "name": "stdout",
     "output_type": "stream",
     "text": [
      "this is a file\n",
      "name is boof\n",
      "pass:1231\n",
      "real username:liasa1\n"
     ]
    }
   ],
   "source": [
    "word='boof'\n",
    "text=''\n",
    "with open('sample.txt','r') as file:\n",
    "    text=file.read()\n",
    "with open('sample.txt','w') as file:\n",
    "    text=text.replace('liza',word)\n",
    "    file.write(text)\n",
    "\n",
    "print(text)\n"
   ]
  },
  {
   "cell_type": "code",
   "execution_count": null,
   "id": "22d6868c",
   "metadata": {},
   "outputs": [
    {
     "name": "stdout",
     "output_type": "stream",
     "text": [
      "this is a file\n",
      "name is boof\n",
      "pass:1231\n",
      "real username:liasa1\n"
     ]
    }
   ],
   "source": [
    "lines=[]\n",
    "with open('sample.txt','r') as file:\n",
    "    content=file.read()\n",
    "    "
   ]
  },
  {
   "cell_type": "code",
   "execution_count": null,
   "id": "a0f55031",
   "metadata": {},
   "outputs": [],
   "source": []
  }
 ],
 "metadata": {
  "kernelspec": {
   "display_name": "Python 3",
   "language": "python",
   "name": "python3"
  },
  "language_info": {
   "codemirror_mode": {
    "name": "ipython",
    "version": 3
   },
   "file_extension": ".py",
   "mimetype": "text/x-python",
   "name": "python",
   "nbconvert_exporter": "python",
   "pygments_lexer": "ipython3",
   "version": "3.10.0"
  }
 },
 "nbformat": 4,
 "nbformat_minor": 5
}
